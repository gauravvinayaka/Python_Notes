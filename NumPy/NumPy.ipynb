{
 "cells": [
  {
   "cell_type": "code",
   "execution_count": 1,
   "metadata": {},
   "outputs": [],
   "source": [
    "#NumPy is a general-purpose array-processing package. \n",
    "#It provides a high-performance multidimensional array object\n",
    "#It is the fundamental package for scientific computing with Python. "
   ]
  },
  {
   "cell_type": "code",
   "execution_count": 3,
   "metadata": {},
   "outputs": [
    {
     "data": {
      "text/plain": [
       "array([1, 2, 3, 4, 5])"
      ]
     },
     "execution_count": 3,
     "metadata": {},
     "output_type": "execute_result"
    }
   ],
   "source": [
    "# Creating Arrays\n",
    "\n",
    "import numpy as np\n",
    "\n",
    "arr = [1,2,3,4,5]\n",
    "arr = np.array(arr)\n",
    "print(arr)"
   ]
  },
  {
   "cell_type": "code",
   "execution_count": 7,
   "metadata": {},
   "outputs": [
    {
     "name": "stdout",
     "output_type": "stream",
     "text": [
      "[[10 20 30]\n",
      " [40 50 60]]\n",
      "(2, 3)\n",
      "2\n",
      "int32\n"
     ]
    }
   ],
   "source": [
    "# 2-D array\n",
    "\n",
    "arr = np.array([[10,20,30],[40,50,60]])\n",
    "print(arr)\n",
    "\n",
    "# Print shape\n",
    "print(arr.shape)\n",
    "\n",
    "# Print length\n",
    "print(len(arr))\n",
    "\n",
    "# Print datatype\n",
    "print(arr.dtype)\n"
   ]
  },
  {
   "cell_type": "code",
   "execution_count": 12,
   "metadata": {},
   "outputs": [
    {
     "name": "stdout",
     "output_type": "stream",
     "text": [
      "[0. 0. 0.]\n",
      "float64\n"
     ]
    }
   ],
   "source": [
    "# Functions to Create Arrays:\n",
    "\n",
    "arr= np.zeros(3)\n",
    "print(arr)\n",
    "\n",
    "# Print datatype\n",
    "print(arr.dtype)\n"
   ]
  },
  {
   "cell_type": "code",
   "execution_count": 13,
   "metadata": {},
   "outputs": [
    {
     "name": "stdout",
     "output_type": "stream",
     "text": [
      "[[1. 1. 1. 1. 1.]\n",
      " [1. 1. 1. 1. 1.]\n",
      " [1. 1. 1. 1. 1.]\n",
      " [1. 1. 1. 1. 1.]\n",
      " [1. 1. 1. 1. 1.]]\n"
     ]
    }
   ],
   "source": [
    "arr = np.ones([5,5])\n",
    "print(arr)"
   ]
  },
  {
   "cell_type": "code",
   "execution_count": 15,
   "metadata": {},
   "outputs": [
    {
     "name": "stdout",
     "output_type": "stream",
     "text": [
      "[[1. 0. 0. 0. 0.]\n",
      " [0. 1. 0. 0. 0.]\n",
      " [0. 0. 1. 0. 0.]\n",
      " [0. 0. 0. 1. 0.]\n",
      " [0. 0. 0. 0. 1.]]\n"
     ]
    }
   ],
   "source": [
    "arr = np.eye(5)\n",
    "print(arr)"
   ]
  },
  {
   "cell_type": "code",
   "execution_count": 16,
   "metadata": {},
   "outputs": [
    {
     "data": {
      "text/plain": [
       "array([0, 1, 2, 3, 4])"
      ]
     },
     "execution_count": 16,
     "metadata": {},
     "output_type": "execute_result"
    }
   ],
   "source": [
    "np.arange(5)"
   ]
  },
  {
   "cell_type": "code",
   "execution_count": 17,
   "metadata": {},
   "outputs": [
    {
     "data": {
      "text/plain": [
       "array([ 1,  3,  5,  7,  9, 11, 13, 15, 17, 19])"
      ]
     },
     "execution_count": 17,
     "metadata": {},
     "output_type": "execute_result"
    }
   ],
   "source": [
    "np.arange(1,20,2)"
   ]
  },
  {
   "cell_type": "code",
   "execution_count": 27,
   "metadata": {},
   "outputs": [
    {
     "name": "stdout",
     "output_type": "stream",
     "text": [
      "[[10 10]\n",
      " [11 11]]\n",
      "**********\n",
      "[[8 6]\n",
      " [3 1]]\n",
      "**********\n",
      "[[ 9 16]\n",
      " [28 30]]\n",
      "**********\n",
      "[[9.   4.  ]\n",
      " [1.75 1.2 ]]\n"
     ]
    }
   ],
   "source": [
    "# Numpy Maths\n",
    "\n",
    "y = np.array([[1,2], [4,5]])\n",
    "x = np.array([[9,8],[7,6]])\n",
    "             \n",
    "print(np.add(x,y))\n",
    "\n",
    "print('*'*10)\n",
    "             \n",
    "print(np.subtract(x,y))\n",
    "\n",
    "print('*'*10)\n",
    "             \n",
    "print(np.multiply(x,y)) \n",
    "\n",
    "print('*'*10)\n",
    "             \n",
    "print(np.divide(x,y)) "
   ]
  },
  {
   "cell_type": "code",
   "execution_count": 30,
   "metadata": {},
   "outputs": [
    {
     "name": "stdout",
     "output_type": "stream",
     "text": [
      "[0 1 2 3 4 5 6 7]\n"
     ]
    },
    {
     "data": {
      "text/plain": [
       "5"
      ]
     },
     "execution_count": 30,
     "metadata": {},
     "output_type": "execute_result"
    }
   ],
   "source": [
    "# Array Indexing\n",
    "\n",
    "arr = np.arange(8)\n",
    "print(arr)\n",
    "arr[5]"
   ]
  },
  {
   "cell_type": "code",
   "execution_count": 31,
   "metadata": {},
   "outputs": [
    {
     "data": {
      "text/plain": [
       "array([1, 2, 3])"
      ]
     },
     "execution_count": 31,
     "metadata": {},
     "output_type": "execute_result"
    }
   ],
   "source": [
    "arr[1:4]"
   ]
  },
  {
   "cell_type": "code",
   "execution_count": 32,
   "metadata": {},
   "outputs": [
    {
     "data": {
      "text/plain": [
       "array([  0, 100, 100, 100,   4,   5,   6,   7])"
      ]
     },
     "execution_count": 32,
     "metadata": {},
     "output_type": "execute_result"
    }
   ],
   "source": [
    "arr[1:4] = 100\n",
    "arr"
   ]
  },
  {
   "cell_type": "code",
   "execution_count": 37,
   "metadata": {},
   "outputs": [
    {
     "name": "stdout",
     "output_type": "stream",
     "text": [
      "[0 1 2 3 4 5 6 7]\n",
      "[0 1 2]\n",
      "[2 3 4 5]\n",
      "[7 6 5 4 3 2 1 0]\n"
     ]
    }
   ],
   "source": [
    "# Array Slicing\n",
    "\n",
    "arr = np.arange(8)\n",
    "print(arr)\n",
    "\n",
    "print(arr[:3])\n",
    "\n",
    "print(arr[2:6])\n",
    "\n",
    "#Reversing an array\n",
    "print(arr[::-1])\n"
   ]
  },
  {
   "cell_type": "code",
   "execution_count": 46,
   "metadata": {},
   "outputs": [
    {
     "name": "stdout",
     "output_type": "stream",
     "text": [
      "[[ 5 10 15]\n",
      " [20 25 30]\n",
      " [30 35 40]]\n",
      "**********\n",
      "[20 25 30]\n",
      "**********\n",
      "20\n",
      "**********\n",
      "[[10 15]\n",
      " [25 30]]\n"
     ]
    }
   ],
   "source": [
    "arr = np.array([[5,10,15],[20,25,30],[30,35,40]])\n",
    "print(arr)\n",
    "\n",
    "print('*'*10)\n",
    "\n",
    "print(arr[1])\n",
    "\n",
    "print('*'*10)\n",
    "\n",
    "print(arr[1][0])\n",
    "\n",
    "print('*'*10)\n",
    "\n",
    "print(arr[:2,1:])"
   ]
  },
  {
   "cell_type": "code",
   "execution_count": 49,
   "metadata": {},
   "outputs": [
    {
     "name": "stdout",
     "output_type": "stream",
     "text": [
      "[[ 0  1  2]\n",
      " [ 3  4  5]\n",
      " [ 6  7  8]\n",
      " [ 9 10 11]\n",
      " [12 13 14]\n",
      " [15 16 17]]\n",
      "******************************\n"
     ]
    },
    {
     "data": {
      "text/plain": [
       "array([[ 0,  3,  6,  9, 12, 15],\n",
       "       [ 1,  4,  7, 10, 13, 16],\n",
       "       [ 2,  5,  8, 11, 14, 17]])"
      ]
     },
     "execution_count": 49,
     "metadata": {},
     "output_type": "execute_result"
    }
   ],
   "source": [
    "#array Transposition\n",
    "\n",
    "arr = np.arange(18).reshape(6,3)\n",
    "print(arr)\n",
    "\n",
    "print('*'*30)\n",
    "\n",
    "arr.T\n"
   ]
  },
  {
   "cell_type": "code",
   "execution_count": 51,
   "metadata": {},
   "outputs": [
    {
     "name": "stdout",
     "output_type": "stream",
     "text": [
      "[0 1 2 3 4]\n",
      "[5 6 7 8 9]\n",
      "**********\n",
      "80\n"
     ]
    }
   ],
   "source": [
    "#Dot product of Arrays\n",
    "\n",
    "x = np.arange(5)\n",
    "y = np.arange(5,10)\n",
    "print(x)\n",
    "print(y)\n",
    "\n",
    "print('*'*10)\n",
    "\n",
    "print(np.dot(x,y))\n"
   ]
  },
  {
   "cell_type": "code",
   "execution_count": 72,
   "metadata": {},
   "outputs": [
    {
     "name": "stdout",
     "output_type": "stream",
     "text": [
      "[ 5  6  7  8  9 10]\n"
     ]
    },
    {
     "data": {
      "text/plain": [
       "array([2.23606798, 2.44948974, 2.64575131, 2.82842712, 3.        ,\n",
       "       3.16227766])"
      ]
     },
     "execution_count": 72,
     "metadata": {},
     "output_type": "execute_result"
    }
   ],
   "source": [
    "# Universal Array Functions and Stats\n",
    "\n",
    "A = np.arange(5,11)\n",
    "print(A)\n",
    "np.sqrt(A)"
   ]
  },
  {
   "cell_type": "code",
   "execution_count": 73,
   "metadata": {},
   "outputs": [
    {
     "data": {
      "text/plain": [
       "array([0.4610657 , 0.10390409, 3.46811733, 1.25860992, 8.48828578,\n",
       "       0.93426782, 0.71467194, 3.37922027, 0.34314775, 2.28730211])"
      ]
     },
     "execution_count": 73,
     "metadata": {},
     "output_type": "execute_result"
    }
   ],
   "source": [
    "np.exp(arr)"
   ]
  },
  {
   "cell_type": "code",
   "execution_count": 74,
   "metadata": {},
   "outputs": [
    {
     "name": "stdout",
     "output_type": "stream",
     "text": [
      "[-2.49265468 -2.58201846  1.62795331  0.9835926   1.96773531  2.33985847\n",
      "  0.47376733  0.06021966  0.05229198  1.03861685]\n"
     ]
    }
   ],
   "source": [
    "B = arr = np.random.randn(10)\n",
    "print(B)"
   ]
  },
  {
   "cell_type": "code",
   "execution_count": 75,
   "metadata": {},
   "outputs": [
    {
     "name": "stdout",
     "output_type": "stream",
     "text": [
      "[ 1.22396969  1.04164937 -1.40828088  0.79058351 -1.20808249  1.24650851\n",
      "  0.54941304  0.00344632 -1.20369791  1.51247487]\n"
     ]
    }
   ],
   "source": [
    "C = arr = np.random.randn(10)\n",
    "print(C)"
   ]
  },
  {
   "cell_type": "code",
   "execution_count": 76,
   "metadata": {},
   "outputs": [
    {
     "data": {
      "text/plain": [
       "array([1.22396969, 1.04164937, 1.62795331, 0.9835926 , 1.96773531,\n",
       "       2.33985847, 0.54941304, 0.06021966, 0.05229198, 1.51247487])"
      ]
     },
     "execution_count": 76,
     "metadata": {},
     "output_type": "execute_result"
    }
   ],
   "source": [
    "np.maximum(B,C)"
   ]
  },
  {
   "cell_type": "code",
   "execution_count": 80,
   "metadata": {},
   "outputs": [
    {
     "data": {
      "text/plain": [
       "22.5"
      ]
     },
     "execution_count": 80,
     "metadata": {},
     "output_type": "execute_result"
    }
   ],
   "source": [
    "A = np.array([10,15,20,25,30,35])\n",
    "np.mean(A)"
   ]
  },
  {
   "cell_type": "code",
   "execution_count": 81,
   "metadata": {},
   "outputs": [
    {
     "data": {
      "text/plain": [
       "18.786076404259266"
      ]
     },
     "execution_count": 81,
     "metadata": {},
     "output_type": "execute_result"
    }
   ],
   "source": [
    "B = np.array([22,33,44,55,66,77])\n",
    "np.std(B)"
   ]
  },
  {
   "cell_type": "code",
   "execution_count": 82,
   "metadata": {},
   "outputs": [
    {
     "data": {
      "text/plain": [
       "70.0"
      ]
     },
     "execution_count": 82,
     "metadata": {},
     "output_type": "execute_result"
    }
   ],
   "source": [
    "C = np.array([20,40,60,80,100,120])\n",
    "np.median(C)"
   ]
  },
  {
   "cell_type": "code",
   "execution_count": null,
   "metadata": {},
   "outputs": [],
   "source": []
  }
 ],
 "metadata": {
  "kernelspec": {
   "display_name": "Python 3",
   "language": "python",
   "name": "python3"
  },
  "language_info": {
   "codemirror_mode": {
    "name": "ipython",
    "version": 3
   },
   "file_extension": ".py",
   "mimetype": "text/x-python",
   "name": "python",
   "nbconvert_exporter": "python",
   "pygments_lexer": "ipython3",
   "version": "3.6.4"
  }
 },
 "nbformat": 4,
 "nbformat_minor": 2
}
